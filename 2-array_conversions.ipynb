{
 "cells": [
  {
   "cell_type": "code",
   "execution_count": null,
   "id": "aa6909ad",
   "metadata": {},
   "outputs": [],
   "source": [
    "import torch\n",
    "import torchvision\n",
    "from torchvision import transforms\n",
    "import numpy as np\n",
    "from PIL import Image\n",
    "import matplotlib.pyplot as plt\n",
    "import os"
   ]
  },
  {
   "cell_type": "code",
   "execution_count": null,
   "id": "967eb2e9",
   "metadata": {},
   "outputs": [],
   "source": [
    "# Define the path to the Pascal VOC image\n",
    "image_folder = './pascalvoc/VOCdevkit/VOC2012/JPEGImages'\n",
    "# Assuming the first image in the folder (modify as needed)\n",
    "image_path = os.path.join(image_folder, os.listdir(image_folder)[0])"
   ]
  },
  {
   "cell_type": "code",
   "execution_count": null,
   "id": "ff870d41",
   "metadata": {},
   "outputs": [],
   "source": [
    "# Load the image using PIL\n",
    "image = Image.open(image_path)\n",
    "plt.figure(figsize=(4, 4))\n",
    "plt.imshow(image)\n",
    "plt.axis('off')\n",
    "plt.show()"
   ]
  },
  {
   "cell_type": "code",
   "execution_count": null,
   "id": "d19696e0",
   "metadata": {},
   "outputs": [],
   "source": [
    "# Convert the PIL image to a numpy array\n",
    "image_array = np.array(image)\n",
    "print(\"Image shape:\", image_array.shape)\n",
    "print(\"Element type:\", image_array.dtype)"
   ]
  },
  {
   "cell_type": "code",
   "execution_count": null,
   "id": "fd03f459",
   "metadata": {},
   "outputs": [],
   "source": [
    "# Convert the PIL image to a tensor\n",
    "transform = transforms.ToTensor()\n",
    "image_tensor = transform(image)\n",
    "print(\"Tensor shape:\", image_tensor.shape)\n",
    "print(\"Tensor element type:\", image_tensor.dtype)"
   ]
  },
  {
   "cell_type": "code",
   "execution_count": null,
   "id": "94c69439",
   "metadata": {},
   "outputs": [],
   "source": [
    "# Convert the tensor to a numpy array\n",
    "image_tensor_np = image_tensor.numpy()\n",
    "print(\"Numpy array shape:\", image_tensor_np.shape)\n",
    "print(\"Numpy array element type:\", image_tensor_np.dtype)"
   ]
  }
 ],
 "metadata": {
  "kernelspec": {
   "display_name": "torch",
   "language": "python",
   "name": "python3"
  },
  "language_info": {
   "codemirror_mode": {
    "name": "ipython",
    "version": 3
   },
   "file_extension": ".py",
   "mimetype": "text/x-python",
   "name": "python",
   "nbconvert_exporter": "python",
   "pygments_lexer": "ipython3",
   "version": "3.13.7"
  }
 },
 "nbformat": 4,
 "nbformat_minor": 5
}
