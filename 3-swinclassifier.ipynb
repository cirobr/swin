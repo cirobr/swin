{
 "cells": [
  {
   "cell_type": "code",
   "execution_count": null,
   "id": "096884c5",
   "metadata": {},
   "outputs": [],
   "source": [
    "# Download ImageNet labels\n",
    "# !wget https://raw.githubusercontent.com/pytorch/hub/master/imagenet_classes.txt"
   ]
  },
  {
   "cell_type": "code",
   "execution_count": null,
   "id": "ba4dbb13",
   "metadata": {},
   "outputs": [],
   "source": [
    "import torch\n",
    "import torchvision\n",
    "from torchvision import transforms\n",
    "from PIL import Image\n",
    "import matplotlib.pyplot as plt\n",
    "import os\n",
    "import random\n",
    "\n",
    "# Set device (GPU if available, else CPU)\n",
    "device = torch.device(\"cuda\" if torch.cuda.is_available() else \"cpu\")"
   ]
  },
  {
   "cell_type": "code",
   "execution_count": null,
   "id": "2b151598",
   "metadata": {},
   "outputs": [],
   "source": [
    "# Load pretrained Swin-T model\n",
    "model = torchvision.models.swin_t(weights='IMAGENET1K_V1').to(device)\n",
    "model.eval();  # Set to evaluation mode"
   ]
  },
  {
   "cell_type": "code",
   "execution_count": null,
   "id": "9e884b03",
   "metadata": {},
   "outputs": [],
   "source": [
    "# Define image transformations (match ImageNet preprocessing)\n",
    "transform = transforms.Compose([\n",
    "    transforms.Resize((224, 224)),  # Swin-T expects 224x224 input\n",
    "    transforms.ToTensor(),\n",
    "    transforms.Normalize(mean=[0.485, 0.456, 0.406], std=[0.229, 0.224, 0.225])\n",
    "])"
   ]
  },
  {
   "cell_type": "code",
   "execution_count": null,
   "id": "3c0a9a27",
   "metadata": {},
   "outputs": [],
   "source": [
    "# Load ImageNet class labels (for interpretation)\n",
    "imagenet_labels = []\n",
    "with open('imagenet_classes.txt', 'r') as f:\n",
    "    imagenet_labels = [line.strip() for line in f.readlines()]\n",
    "# imagenet_labels"
   ]
  },
  {
   "cell_type": "code",
   "execution_count": null,
   "id": "309c0f72",
   "metadata": {},
   "outputs": [],
   "source": [
    "# Select a random image from the pascalvoc folder\n",
    "image_folder = './pascalvoc/VOCdevkit/VOC2012/JPEGImages'\n",
    "image_files = [f for f in os.listdir(image_folder) if f.endswith(('.jpg', '.png'))]\n",
    "if not image_files:\n",
    "    raise FileNotFoundError(\"No images found in ./pascalvoc folder\")\n",
    "image_path = os.path.join(image_folder, random.choice(image_files))"
   ]
  },
  {
   "cell_type": "code",
   "execution_count": null,
   "id": "c847c8e6",
   "metadata": {},
   "outputs": [],
   "source": [
    "# Load and preprocess the image\n",
    "image = Image.open(image_path).convert('RGB')  # Ensure RGB format\n",
    "image_tensor = transform(image).unsqueeze(0).to(device)  # Add batch dimension and send to gpu/cpu\n",
    "print(\"Tensor shape:\", image_tensor.shape)\n",
    "print(\"Tensor element type:\", image_tensor.dtype)"
   ]
  },
  {
   "cell_type": "code",
   "execution_count": null,
   "id": "2caf0804",
   "metadata": {},
   "outputs": [],
   "source": [
    "# Perform classification\n",
    "with torch.no_grad():\n",
    "    output = model(image_tensor)\n",
    "    probabilities = torch.nn.functional.softmax(output[0], dim=0)\n",
    "    predicted_idx = torch.argmax(probabilities).item()\n",
    "    predicted_label = imagenet_labels[predicted_idx]\n",
    "    confidence = probabilities[predicted_idx].item()"
   ]
  },
  {
   "cell_type": "code",
   "execution_count": null,
   "id": "690e8b5f",
   "metadata": {},
   "outputs": [],
   "source": [
    "# Display the image and prediction\n",
    "plt.figure(figsize=(8, 8))\n",
    "plt.imshow(image)\n",
    "plt.axis('off')\n",
    "plt.title(f'Predicted: {predicted_label} ({confidence:.2%})')\n",
    "plt.show()"
   ]
  }
 ],
 "metadata": {
  "kernelspec": {
   "display_name": "torch",
   "language": "python",
   "name": "python3"
  },
  "language_info": {
   "codemirror_mode": {
    "name": "ipython",
    "version": 3
   },
   "file_extension": ".py",
   "mimetype": "text/x-python",
   "name": "python",
   "nbconvert_exporter": "python",
   "pygments_lexer": "ipython3",
   "version": "3.13.5"
  }
 },
 "nbformat": 4,
 "nbformat_minor": 5
}
