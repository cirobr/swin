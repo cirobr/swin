{
 "cells": [
  {
   "cell_type": "code",
   "execution_count": null,
   "id": "aa6909ad",
   "metadata": {},
   "outputs": [],
   "source": [
    "import torch\n",
    "import torchvision\n",
    "from torchvision import transforms\n",
    "from PIL import Image\n",
    "import matplotlib.pyplot as plt\n",
    "import os"
   ]
  },
  {
   "cell_type": "code",
   "execution_count": null,
   "id": "967eb2e9",
   "metadata": {},
   "outputs": [],
   "source": [
    "# Define the path to the Pascal VOC image\n",
    "image_folder = './pascalvoc/VOCdevkit/VOC2012/JPEGImages'\n",
    "# Assuming the first image in the folder (modify as needed)\n",
    "image_path = os.path.join(image_folder, os.listdir(image_folder)[0])"
   ]
  },
  {
   "cell_type": "code",
   "execution_count": null,
   "id": "ff870d41",
   "metadata": {},
   "outputs": [],
   "source": [
    "# Load the image using PIL\n",
    "image = Image.open(image_path)\n",
    "plt.figure(figsize=(4, 4))\n",
    "plt.imshow(image)\n",
    "plt.axis('off')\n",
    "plt.show()"
   ]
  },
  {
   "cell_type": "code",
   "execution_count": null,
   "id": "dea89bac",
   "metadata": {},
   "outputs": [],
   "source": [
    "# Convert the PIL image to a tensor\n",
    "transform = transforms.ToTensor()\n",
    "image_tensor = transform(image)"
   ]
  },
  {
   "cell_type": "code",
   "execution_count": null,
   "id": "f3aae8db",
   "metadata": {},
   "outputs": [],
   "source": [
    "# Convert tensor back to image for display\n",
    "image_display = image_tensor.permute(1, 2, 0).numpy()  # Change from CHW to HWC format"
   ]
  },
  {
   "cell_type": "code",
   "execution_count": null,
   "id": "b05aba04",
   "metadata": {},
   "outputs": [],
   "source": [
    "fig, axes = plt.subplots(1, 2, figsize=(8, 4))\n",
    "axes[0].imshow(image)\n",
    "axes[0].set_title('Original Image')\n",
    "axes[0].axis('off')\n",
    "\n",
    "axes[1].imshow(image_display)\n",
    "axes[1].set_title('Tensor Image')\n",
    "axes[1].axis('off')\n",
    "\n",
    "plt.tight_layout()\n",
    "plt.show()"
   ]
  }
 ],
 "metadata": {
  "kernelspec": {
   "display_name": "torch",
   "language": "python",
   "name": "python3"
  },
  "language_info": {
   "codemirror_mode": {
    "name": "ipython",
    "version": 3
   },
   "file_extension": ".py",
   "mimetype": "text/x-python",
   "name": "python",
   "nbconvert_exporter": "python",
   "pygments_lexer": "ipython3",
   "version": "3.13.5"
  }
 },
 "nbformat": 4,
 "nbformat_minor": 5
}
